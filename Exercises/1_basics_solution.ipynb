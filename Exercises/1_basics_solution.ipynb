{
 "cells": [
  {
   "cell_type": "markdown",
   "metadata": {},
   "source": [
    "# University Certificate in Artificial Intelligence (Hands on AI, Third Challenge, 2022-2023, UMONS)\n",
    "# Introduction to time series analysis and forecasting\n",
    "\n",
    "\n"
   ]
  },
  {
   "cell_type": "code",
   "execution_count": null,
   "metadata": {},
   "outputs": [],
   "source": [
    "import pandas as pd\n",
    "import numpy as np\n",
    "import matplotlib.pyplot as plt\n",
    "plt.rcParams['figure.figsize'] = [20, 5]\n"
   ]
  },
  {
   "cell_type": "markdown",
   "metadata": {},
   "source": [
    "## White noise time series\n",
    "\n"
   ]
  },
  {
   "cell_type": "markdown",
   "metadata": {},
   "source": [
    "- Generate a time series with 500 observations from a white noise process with zero mean and unit standard deviation.\n",
    "\n"
   ]
  },
  {
   "cell_type": "code",
   "execution_count": null,
   "metadata": {},
   "outputs": [],
   "source": [
    "# Hint: use np.random.normal\n",
    "\n",
    "white_noise = np.random.normal(loc=0, scale=1, size=500)\n"
   ]
  },
  {
   "cell_type": "markdown",
   "metadata": {},
   "source": [
    "- Plot the generated tiime series.\n"
   ]
  },
  {
   "cell_type": "code",
   "execution_count": null,
   "metadata": {},
   "outputs": [],
   "source": [
    "plt.plot(white_noise)\n"
   ]
  },
  {
   "cell_type": "markdown",
   "metadata": {},
   "source": [
    "- Compute and plot the ACF for 50 lags. Did you expect to see such results? Why?"
   ]
  },
  {
   "cell_type": "code",
   "execution_count": null,
   "metadata": {},
   "outputs": [],
   "source": [
    "from statsmodels.graphics.tsaplots import plot_acf\n",
    "# Hint: use plot_acf\n",
    "\n",
    "plot_acf(white_noise, lags=50)\n"
   ]
  },
  {
   "cell_type": "markdown",
   "metadata": {},
   "source": [
    "* Perform a Ljung-Box test for the first ten lags."
   ]
  },
  {
   "cell_type": "code",
   "execution_count": null,
   "metadata": {},
   "outputs": [],
   "source": [
    "from statsmodels.stats.diagnostic import acorr_ljungbox\n",
    "# Hint: use acorr_ljungbox\n",
    "\n",
    "acorr_ljungbox(white_noise, lags = 10)"
   ]
  },
  {
   "cell_type": "markdown",
   "metadata": {},
   "source": [
    "## Real-world time series"
   ]
  },
  {
   "cell_type": "code",
   "execution_count": null,
   "metadata": {},
   "outputs": [],
   "source": [
    "\n",
    "# Read the data file\n",
    "DF = pd.read_csv(\"../data/data_train.csv\", parse_dates = True)\n",
    "\n",
    "\n",
    "DF['Day'] =  pd.to_datetime(DF['Day'], format='%Y-%m-%d')\n",
    "DF.set_index(\"Day\", inplace=True)\n",
    "DF = DF.asfreq(\"D\")\n",
    "print(DF)\n"
   ]
  },
  {
   "cell_type": "code",
   "execution_count": null,
   "metadata": {},
   "outputs": [],
   "source": [
    "print(DF.shape)\n"
   ]
  },
  {
   "cell_type": "markdown",
   "metadata": {},
   "source": [
    "- Compute the number of missing values per series.\n"
   ]
  },
  {
   "cell_type": "code",
   "execution_count": null,
   "metadata": {},
   "outputs": [],
   "source": [
    "# Hint: use isna()\n",
    "\n",
    "print(DF.isna().sum().sort_values(ascending=False))"
   ]
  },
  {
   "cell_type": "markdown",
   "metadata": {},
   "source": [
    "- Replace the missing values with the method of your choice.\n"
   ]
  },
  {
   "cell_type": "code",
   "execution_count": null,
   "metadata": {},
   "outputs": [],
   "source": [
    "# Hint: you can use fillna()\n",
    "DF.fillna(method = \"backfill\", inplace = True)\n",
    "print(DF.isna().sum().sort_values(ascending=False))\n"
   ]
  },
  {
   "cell_type": "markdown",
   "metadata": {},
   "source": [
    "- Select one series (among \"series-001\", \"series-002\", ..., \"series-111\") and plot it.\n"
   ]
  },
  {
   "cell_type": "code",
   "execution_count": null,
   "metadata": {},
   "outputs": [],
   "source": [
    "# Select one series (among \"series-001\", \"series-002\", ..., \"series-111\") and plot it\n",
    "my_series = \"series-003\"\n",
    "DF[my_series].plot()"
   ]
  },
  {
   "cell_type": "code",
   "execution_count": null,
   "metadata": {},
   "outputs": [],
   "source": [
    "# Extract calendar variables from dates (useful for seasonal plots)\n",
    "DF[\"d\"] = DF.index.day.to_numpy()\n",
    "DF[\"m\"] = DF.index.month.to_numpy()\n",
    "DF[\"y\"] = DF.index.year.to_numpy()\n",
    "DF[\"w\"] = DF.index.weekday.to_numpy()\n",
    "DF[\"wy\"] = DF.index.isocalendar().week.to_numpy()\n",
    "DF.head()"
   ]
  },
  {
   "cell_type": "markdown",
   "metadata": {},
   "source": [
    "- Generate a seasonal plot with the day of the week in the x-axis."
   ]
  },
  {
   "cell_type": "code",
   "execution_count": null,
   "metadata": {},
   "outputs": [],
   "source": [
    "# Seasonal plots (Day of the week)\n",
    "# Hint: You could generate a data frame with the weekly series and plot it\n",
    "\n",
    "patterns_day_week = DF[[my_series, \"wy\", \"y\", \"w\"]].pivot_table(index=['w'], columns=['wy', 'y'])\n",
    "plt.plot(patterns_day_week)\n",
    "\n",
    "\n"
   ]
  },
  {
   "cell_type": "markdown",
   "metadata": {},
   "source": [
    "- Plot a boxplot for each day of the week."
   ]
  },
  {
   "cell_type": "code",
   "execution_count": null,
   "metadata": {},
   "outputs": [],
   "source": [
    "patterns_day_week.transpose().boxplot()"
   ]
  },
  {
   "cell_type": "markdown",
   "metadata": {},
   "source": [
    "- Generate a seasonal plot with the day of the month in the x-axis."
   ]
  },
  {
   "cell_type": "code",
   "execution_count": null,
   "metadata": {},
   "outputs": [],
   "source": [
    "# Seasonal plots (Day of the month)\n",
    "patterns_day_month = DF[[my_series, \"d\", \"m\", \"y\"]].pivot_table(index=['d'], columns=['m', 'y'])\n",
    "plt.plot(patterns_day_month)\n",
    "plt.show()\n",
    "\n"
   ]
  },
  {
   "cell_type": "code",
   "execution_count": null,
   "metadata": {},
   "outputs": [],
   "source": [
    "patterns_day_month.transpose().boxplot()"
   ]
  },
  {
   "cell_type": "markdown",
   "metadata": {},
   "source": [
    "- Produce lagged scatterplots for lags 1, 3 and 7. What do you observe? Add the diagonal for a better visualization."
   ]
  },
  {
   "cell_type": "code",
   "execution_count": null,
   "metadata": {},
   "outputs": [],
   "source": [
    "# Lag plot\n",
    "\n",
    "def lag_plot(series, lag = -1, ls = 'r.'):\n",
    "    y_lag = series.shift(lag)\n",
    "    plt.plot(series, series, 'b-')\n",
    "    plt.plot(y_lag, series, ls)\n",
    "    plt.show()\n",
    "\n",
    "lag_plot(DF[my_series], lag = 1)\n",
    "lag_plot(DF[my_series], lag = 3)\n",
    "lag_plot(DF[my_series], lag = 7)\n",
    "\n"
   ]
  },
  {
   "cell_type": "markdown",
   "metadata": {},
   "source": [
    "## Autocorrelation\n",
    "* Plot the autocorrelation function (ACF) for the first 20 lags, and interpret the results. \n",
    "\n"
   ]
  },
  {
   "cell_type": "code",
   "execution_count": null,
   "metadata": {},
   "outputs": [],
   "source": [
    "DF[my_series].plot()\n"
   ]
  },
  {
   "cell_type": "code",
   "execution_count": null,
   "metadata": {},
   "outputs": [],
   "source": [
    "plot_acf(DF[my_series], lags= 20, alpha=0.05)\n",
    "plt.show()\n"
   ]
  },
  {
   "cell_type": "markdown",
   "metadata": {},
   "source": [
    "* Recompute the ACF after applying a seasonal difference. \n"
   ]
  },
  {
   "cell_type": "code",
   "execution_count": null,
   "metadata": {},
   "outputs": [],
   "source": [
    "# Hint: use np.diff\n",
    "plot_acf(np.diff(DF[my_series], 7), lags= 20, alpha=0.05)\n",
    "plt.show()"
   ]
  },
  {
   "cell_type": "markdown",
   "metadata": {},
   "source": [
    "- Compute and print the ACF values for the first 20 lags."
   ]
  },
  {
   "cell_type": "code",
   "execution_count": null,
   "metadata": {},
   "outputs": [],
   "source": [
    "from statsmodels.graphics.tsaplots import acf\n",
    "# Hint: use acf\n",
    "print(acf(DF[my_series]))"
   ]
  },
  {
   "cell_type": "markdown",
   "metadata": {},
   "source": [
    "* Perform a Ljung-Box test for the series."
   ]
  },
  {
   "cell_type": "code",
   "execution_count": null,
   "metadata": {},
   "outputs": [],
   "source": [
    "acorr_ljungbox(DF[my_series], period = 7)\n"
   ]
  },
  {
   "cell_type": "markdown",
   "metadata": {},
   "source": [
    "## Transformations"
   ]
  },
  {
   "cell_type": "markdown",
   "metadata": {},
   "source": [
    "* Apply a Box-Cox transformation with $\\lambda = 0.5$, $\\lambda = 0.3$ and $\\lambda = 0$. Plot the transformed series."
   ]
  },
  {
   "cell_type": "code",
   "execution_count": null,
   "metadata": {},
   "outputs": [],
   "source": [
    "DF[my_series].transform(lambda x: x ** 0.5).plot()\n",
    "plt.show()\n",
    "DF[my_series].transform(lambda x: x ** 0.333).plot()\n",
    "plt.show()\n",
    "DF[my_series].transform(lambda x: np.log(x)).plot()\n"
   ]
  },
  {
   "cell_type": "markdown",
   "metadata": {},
   "source": [
    "- Find the best value of $\\lambda$ in the Box-Cox transformation, and plot the transformed series."
   ]
  },
  {
   "cell_type": "code",
   "execution_count": null,
   "metadata": {},
   "outputs": [],
   "source": [
    "from scipy.stats import boxcox\n",
    "eps = 0.0001\n",
    "x = DF[my_series] + eps\n",
    "# Hint: use boxcox on the x variable.\n",
    "\n",
    "x, opt_lambda = boxcox(x)\n",
    "print(opt_lambda)\n",
    "plt.plot(x)"
   ]
  },
  {
   "cell_type": "markdown",
   "metadata": {},
   "source": [
    "## Time series decomposition \n"
   ]
  },
  {
   "cell_type": "markdown",
   "metadata": {},
   "source": [
    "* Decompose the time series into trend, seasonal and remainder components. Plot the different component. Does it help you to understand the data?"
   ]
  },
  {
   "cell_type": "code",
   "execution_count": null,
   "metadata": {},
   "outputs": [],
   "source": [
    "from statsmodels.tsa.seasonal import seasonal_decompose\n",
    "# Hint: use seasonal_decompose\n",
    "\n",
    "result = seasonal_decompose(DF[my_series])\n"
   ]
  },
  {
   "cell_type": "code",
   "execution_count": null,
   "metadata": {},
   "outputs": [],
   "source": [
    "result.plot()"
   ]
  },
  {
   "cell_type": "markdown",
   "metadata": {},
   "source": [
    "* Use the STL decomposition algorithm to decompose the series into trend, seasonal and remainder components."
   ]
  },
  {
   "cell_type": "code",
   "execution_count": null,
   "metadata": {},
   "outputs": [],
   "source": [
    "from statsmodels.tsa.seasonal import STL\n",
    "# Hint: Use STL with period = 7\n",
    "\n",
    "stl = STL(DF[my_series], period = 7, robust = True, seasonal = 7*30 + 1)\n",
    "result = stl.fit()\n",
    "result.plot()\n",
    "\n",
    "\n",
    "\n",
    "\n"
   ]
  },
  {
   "cell_type": "markdown",
   "metadata": {},
   "source": [
    "- Plot the deseasonalized series, i.e. $z_t = y_t - s_t$."
   ]
  },
  {
   "cell_type": "code",
   "execution_count": null,
   "metadata": {},
   "outputs": [],
   "source": [
    "# Deaseasonlized data\n",
    "deaseasonlized_data = result.trend + result.resid\n",
    "deaseasonlized_data.plot()\n",
    "\n",
    "\n"
   ]
  },
  {
   "cell_type": "markdown",
   "metadata": {},
   "source": [
    "## Forecasting"
   ]
  },
  {
   "cell_type": "markdown",
   "metadata": {},
   "source": [
    "Split the time series in a training and a test set where the test set is composed of the last 21 observations."
   ]
  },
  {
   "cell_type": "code",
   "execution_count": null,
   "metadata": {},
   "outputs": [],
   "source": [
    "series = DF[my_series]\n",
    "\n",
    "n_test = 21\n",
    "series_train = series[:-n_test]\n",
    "series_test = series[-n_test:]\n",
    "\n",
    "plt.plot(series_train)\n",
    "plt.plot(series_test)"
   ]
  },
  {
   "cell_type": "markdown",
   "metadata": {},
   "source": [
    "* Compute the in-sample one-step ahead predictions for simple forecasting methods (mean, naive, and sesonal naive)."
   ]
  },
  {
   "cell_type": "code",
   "execution_count": null,
   "metadata": {},
   "outputs": [],
   "source": [
    "## Mean forecasts\n",
    "\n",
    "fit_mean = [series_train[:i].mean() for i in range(1, len(series_train)) ]\n",
    "resid_mean = series_train.values[1:] - fit_mean"
   ]
  },
  {
   "cell_type": "code",
   "execution_count": null,
   "metadata": {},
   "outputs": [],
   "source": [
    "\n",
    "## Naive forecasts\n",
    "\n",
    "fit_naive = [series_train[i-1] for i in range(1, len(series_train)) ]\n",
    "resid_naive = series_train.values[1:] - fit_naive"
   ]
  },
  {
   "cell_type": "code",
   "execution_count": null,
   "metadata": {},
   "outputs": [],
   "source": [
    "\n",
    "## Seasonal naive forecasts\n",
    "# For the first week, you can compute a naive forecast (non-seasonal)\n",
    "\n",
    "fit_snaive = [series_train[i-7] for i in range(7, len(series_train)) ]\n",
    "fit_snaive = fit_naive[:6] + fit_snaive\n",
    "resid_snaive = series_train.values[1:] - fit_snaive"
   ]
  },
  {
   "cell_type": "markdown",
   "metadata": {},
   "source": [
    "* Plot a histogram of residuals for the three mthods."
   ]
  },
  {
   "cell_type": "code",
   "execution_count": null,
   "metadata": {},
   "outputs": [],
   "source": [
    "# \n",
    "resid = pd.DataFrame({'resid_mean': resid_mean, 'resid_naive': resid_naive, 'resid_snaive': resid_snaive})\n",
    "resid.plot.hist( bins = 20, histtype = \"step\")"
   ]
  },
  {
   "cell_type": "markdown",
   "metadata": {},
   "source": [
    "* Compute the bias for each method. Which method has a higher bias?\n"
   ]
  },
  {
   "cell_type": "code",
   "execution_count": null,
   "metadata": {},
   "outputs": [],
   "source": [
    "#\n",
    "resid.mean()"
   ]
  },
  {
   "cell_type": "markdown",
   "metadata": {},
   "source": [
    "* Compute the mean squared error (MSE).\n"
   ]
  },
  {
   "cell_type": "code",
   "execution_count": null,
   "metadata": {},
   "outputs": [],
   "source": [
    "#\n",
    "(resid**2).mean()"
   ]
  },
  {
   "cell_type": "markdown",
   "metadata": {},
   "source": [
    "* Plot the ACF for the first 20 lags. Which method has a better fit and why?\n"
   ]
  },
  {
   "cell_type": "code",
   "execution_count": null,
   "metadata": {},
   "outputs": [],
   "source": [
    "# Plot the ACF for the first 20 lags. Which method has a better fit and why?\n",
    "plot_acf(resid_mean, lags= 20, alpha=0.05, title = \"mean\")\n",
    "plot_acf(resid_naive, lags= 20, alpha=0.05, title = \"naive\")\n",
    "plot_acf(resid_snaive, lags= 20, alpha=0.05, title = \"seasonal naive\")"
   ]
  },
  {
   "cell_type": "markdown",
   "metadata": {},
   "source": [
    "* For each method, plot the predictions and the true in-sample values.\n"
   ]
  },
  {
   "cell_type": "code",
   "execution_count": null,
   "metadata": {},
   "outputs": [],
   "source": [
    "fit_mean_df = pd.DataFrame(fit_mean, index = series_train.index[1:])\n",
    "fit_naive_df = pd.DataFrame(fit_naive, index = series_train.index[1:])\n",
    "fit_snaive_df = pd.DataFrame(fit_snaive, index = series_train.index[1:])\n",
    "\n",
    "plt.figure()\n",
    "plt.plot(series_train)\n",
    "plt.plot(fit_mean_df, color='orange')\n",
    "\n",
    "plt.figure()\n",
    "plt.plot(series_train)\n",
    "plt.plot(fit_naive_df, color='green')\n",
    "\n",
    "plt.figure()\n",
    "plt.plot(series_train)\n",
    "plt.plot(fit_snaive_df, color='red')"
   ]
  },
  {
   "cell_type": "markdown",
   "metadata": {},
   "source": [
    "* Implement a new forecasting method which computes the forecast for $y_{t}$ by taking the average of $y_{t-1}, y_{t-7}, y_{t-14}$.\n",
    "For the first two weeks, you can use the seasonal naive forecasts.\n"
   ]
  },
  {
   "cell_type": "code",
   "execution_count": null,
   "metadata": {},
   "outputs": [],
   "source": [
    "# \n",
    "fit_snaive2 = [(series_train[i-1] + series_train[i-7] + series_train[i-14])/3 for i in range(14, len(series_train)) ]\n",
    "fit_snaive2 = fit_snaive[:13] + fit_snaive2\n",
    "resid_snaive2 = series_train.values[1:] - fit_snaive2\n",
    "\n"
   ]
  },
  {
   "cell_type": "markdown",
   "metadata": {},
   "source": [
    "Compare this new method with the seasonal naive method (e.g. histogram of residuals and ACF plot)."
   ]
  },
  {
   "cell_type": "code",
   "execution_count": null,
   "metadata": {},
   "outputs": [],
   "source": [
    "#\n",
    "resid = pd.DataFrame({'resid_snaive': resid_snaive, 'resid_snaiv2e': resid_snaive2})\n",
    "resid.plot.hist( bins = 20, histtype = \"step\")\n",
    "\n",
    "plot_acf(resid_snaive, lags= 20, alpha=0.05, title = \"seasonal naive\")\n",
    "plot_acf(resid_snaive2, lags= 20, alpha=0.05, title = \"new method\")\n",
    "\n",
    "print( (resid**2).mean() )\n",
    "\n"
   ]
  },
  {
   "cell_type": "markdown",
   "metadata": {},
   "source": [
    "* Compute $21$-step ahead out-of-sample forecasts for the different methods.\n",
    "* Plot the forecasts and the true values."
   ]
  },
  {
   "cell_type": "code",
   "execution_count": null,
   "metadata": {},
   "outputs": [],
   "source": [
    "# Out-of-sample forecasts\n",
    "\n",
    "period = 7\n",
    "T = len(series_train)\n",
    "HORIZON = n_test\n",
    "\n",
    "## Mean\n",
    "meanf = series_train.mean()\n",
    "f_mean = pd.DataFrame([meanf for h in range(0, HORIZON) ], index = series_test.index)\n",
    "\n",
    "## Naive\n",
    "f_naive = series_train[-1]\n",
    "f_naive = pd.DataFrame([f_naive for h in range(0, HORIZON) ], index = series_test.index)\n",
    "\n",
    "\n",
    "## Seasonal naive\n",
    "#f_snaive = [series_train[T + h - period * ((HORIZON -1)//period + 1)] for h in range(0, HORIZON) ]\n",
    "f_snaive = [series_train[-HORIZON+h] for h in range(0, HORIZON) ]\n",
    "f_snaive = pd.DataFrame(f_snaive, index = series_test.index)\n",
    "\n",
    "plt.plot(series_test, label='true')\n",
    "plt.plot(f_mean, label='mean')\n",
    "plt.plot(f_naive, label='naive')\n",
    "plt.plot(f_snaive, label='snaive')\n",
    "plt.legend(loc='upper right')\n",
    "\n"
   ]
  }
 ],
 "metadata": {
  "kernelspec": {
   "display_name": "Python 3.8.9 64-bit",
   "language": "python",
   "name": "python3"
  },
  "language_info": {
   "codemirror_mode": {
    "name": "ipython",
    "version": 3
   },
   "file_extension": ".py",
   "mimetype": "text/x-python",
   "name": "python",
   "nbconvert_exporter": "python",
   "pygments_lexer": "ipython3",
   "version": "3.8.9"
  },
  "orig_nbformat": 2,
  "vscode": {
   "interpreter": {
    "hash": "31f2aee4e71d21fbe5cf8b01ff0e069b9275f58929596ceb00d14d90e3e16cd6"
   }
  }
 },
 "nbformat": 4,
 "nbformat_minor": 2
}
